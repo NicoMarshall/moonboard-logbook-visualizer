{
 "cells": [
  {
   "cell_type": "markdown",
   "metadata": {},
   "source": [
    "--Notebook for developing methods for visualization of logbook data\n",
    "--Heatmap of hold usage for each set\n"
   ]
  },
  {
   "cell_type": "code",
   "execution_count": 5,
   "metadata": {},
   "outputs": [],
   "source": [
    "import json\n",
    "import os"
   ]
  },
  {
   "cell_type": "code",
   "execution_count": null,
   "metadata": {},
   "outputs": [
    {
     "ename": "NotADirectoryError",
     "evalue": "[WinError 267] The directory name is invalid: 'logbook_2016-40.json'",
     "output_type": "error",
     "traceback": [
      "\u001b[1;31m---------------------------------------------------------------------------\u001b[0m",
      "\u001b[1;31mNotADirectoryError\u001b[0m                        Traceback (most recent call last)",
      "Cell \u001b[1;32mIn[7], line 21\u001b[0m\n\u001b[0;32m     18\u001b[0m         \u001b[38;5;28;01mwith\u001b[39;00m \u001b[38;5;28mopen\u001b[39m(\u001b[38;5;124m'\u001b[39m\u001b[38;5;124mhold_matrix.json\u001b[39m\u001b[38;5;124m'\u001b[39m, \u001b[38;5;124m'\u001b[39m\u001b[38;5;124mw\u001b[39m\u001b[38;5;124m'\u001b[39m) \u001b[38;5;28;01mas\u001b[39;00m json_file:\n\u001b[0;32m     19\u001b[0m             json\u001b[38;5;241m.\u001b[39mdump(hold_matrix, json_file)\n\u001b[1;32m---> 21\u001b[0m \u001b[43mcollect_hold_data\u001b[49m\u001b[43m(\u001b[49m\u001b[43m)\u001b[49m\n",
      "Cell \u001b[1;32mIn[7], line 7\u001b[0m, in \u001b[0;36mcollect_hold_data\u001b[1;34m()\u001b[0m\n\u001b[0;32m      5\u001b[0m hold_matrix \u001b[38;5;241m=\u001b[39m [[\u001b[38;5;241m0\u001b[39m \u001b[38;5;28;01mfor\u001b[39;00m i \u001b[38;5;129;01min\u001b[39;00m \u001b[38;5;28mrange\u001b[39m(\u001b[38;5;241m11\u001b[39m)] \u001b[38;5;28;01mfor\u001b[39;00m j \u001b[38;5;129;01min\u001b[39;00m \u001b[38;5;28mrange\u001b[39m(\u001b[38;5;241m18\u001b[39m)] \u001b[38;5;66;03m# init hold use matrix\u001b[39;00m\n\u001b[0;32m      6\u001b[0m sessions \u001b[38;5;241m=\u001b[39m os\u001b[38;5;241m.\u001b[39mlistdir()[\u001b[38;5;241m0\u001b[39m]\n\u001b[1;32m----> 7\u001b[0m \u001b[43mos\u001b[49m\u001b[38;5;241;43m.\u001b[39;49m\u001b[43mchdir\u001b[49m\u001b[43m(\u001b[49m\u001b[43msessions\u001b[49m\u001b[43m)\u001b[49m\n\u001b[0;32m      8\u001b[0m \u001b[38;5;28;01mfor\u001b[39;00m session \u001b[38;5;129;01min\u001b[39;00m os\u001b[38;5;241m.\u001b[39mlistdir(sessions): \u001b[38;5;66;03m# loop through sessions\u001b[39;00m\n\u001b[0;32m      9\u001b[0m     \u001b[38;5;28;01mwith\u001b[39;00m \u001b[38;5;28mopen\u001b[39m(session, \u001b[38;5;124m'\u001b[39m\u001b[38;5;124mr\u001b[39m\u001b[38;5;124m'\u001b[39m) \u001b[38;5;28;01mas\u001b[39;00m file:\n",
      "\u001b[1;31mNotADirectoryError\u001b[0m: [WinError 267] The directory name is invalid: 'logbook_2016-40.json'"
     ]
    }
   ],
   "source": [
    "def collect_hold_data():\n",
    "    os.chdir(\"logbooks\")\n",
    "    for board_setup in os.listdir(): # loop through board setups\n",
    "        os.chdir(board_setup)\n",
    "        hold_matrix = [[0 for i in range(11)] for j in range(18)] # init hold use matrix\n",
    "        sessions = os.listdir()[0]\n",
    "        os.chdir(sessions)\n",
    "        for session in os.listdir(): # loop through sessions\n",
    "            with open(session, 'r') as file:\n",
    "                data = json.load(file)  # Load the JSON content\n",
    "                for boulder in data[\"Data\"]:\n",
    "                    for hold in boulder[\"Problem\"][\"Locations\"]:\n",
    "                        x, y = hold[\"X\"], hold[\"Y\"]\n",
    "                        x = round((x-95)/50)\n",
    "                        y = round((y-88)/50)\n",
    "                        hold_matrix[y][x] += 1\n",
    "        os.chdir(board_setup)\n",
    "        with open('hold_matrix.json', 'w') as json_file:\n",
    "            json.dump(hold_matrix, json_file)\n",
    "\n",
    "collect_hold_data()\n",
    "        \n",
    "           "
   ]
  }
 ],
 "metadata": {
  "kernelspec": {
   "display_name": "fresh_env",
   "language": "python",
   "name": "python3"
  },
  "language_info": {
   "codemirror_mode": {
    "name": "ipython",
    "version": 3
   },
   "file_extension": ".py",
   "mimetype": "text/x-python",
   "name": "python",
   "nbconvert_exporter": "python",
   "pygments_lexer": "ipython3",
   "version": "3.10.16"
  }
 },
 "nbformat": 4,
 "nbformat_minor": 2
}
